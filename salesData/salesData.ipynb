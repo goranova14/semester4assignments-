{
 "cells": [
  {
   "cell_type": "code",
   "execution_count": null,
   "metadata": {},
   "outputs": [],
   "source": [
    "import numpy as np\n",
    "import pandas as pd\n",
    "from datetime import date, timedelta\n",
    "\n",
    "# Define date range\n",
    "start_date = date(2023, 1, 1)\n",
    "end_date = date(2023, 12, 31)\n",
    "delta = timedelta(days=1)\n",
    "\n",
    "# Create a list of dates from January to December\n",
    "date_range = []\n",
    "while start_date <= end_date:\n",
    "    date_range.append(start_date.strftime('%Y-%m-%d'))\n",
    "    start_date += delta\n",
    "\n",
    "# Generate fake data for sales\n",
    "np.random.seed(0)  # Set a seed for reproducibility\n",
    "sales = np.random.uniform(500e6, 1e9, len(date_range))\n",
    "\n",
    "# Create a DataFrame\n",
    "df = pd.DataFrame({'Date': date_range, 'Sales': sales})\n",
    "\n",
    "# Save the data to a CSV file\n",
    "df.to_csv('salesdata.csv', index=False)\n"
   ]
  }
 ],
 "metadata": {
  "language_info": {
   "name": "python"
  }
 },
 "nbformat": 4,
 "nbformat_minor": 2
}
