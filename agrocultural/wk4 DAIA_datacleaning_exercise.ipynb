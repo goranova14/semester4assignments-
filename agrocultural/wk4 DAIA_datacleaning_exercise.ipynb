{
 "cells": [
  {
   "cell_type": "markdown",
   "id": "274d84b3",
   "metadata": {},
   "source": [
    "# Agricultural investments made by various regions and sectors"
   ]
  },
  {
   "cell_type": "markdown",
   "id": "532685aa",
   "metadata": {},
   "source": [
    "### This notebook is going to show agricultural investments and land acquisitions into different sectors made by various countries lands."
   ]
  },
  {
   "cell_type": "markdown",
   "id": "3f0c821c",
   "metadata": {},
   "source": [
    "# Loading data CSV and libraries"
   ]
  },
  {
   "cell_type": "markdown",
   "id": "9660509b",
   "metadata": {},
   "source": [
    "First, the required libraries are shown. We are going to use matplotlib for plotting library.  We are loading the data using pandas read_csv function. The data has 416 observations in 9 columns. "
   ]
  },
  {
   "cell_type": "code",
   "execution_count": 1,
   "id": "4f45d24e",
   "metadata": {},
   "outputs": [
    {
     "data": {
      "text/plain": [
       "(416, 9)"
      ]
     },
     "execution_count": 1,
     "metadata": {},
     "output_type": "execute_result"
    }
   ],
   "source": [
    "import pandas as pd\n",
    "import matplotlib.pyplot as plt\n",
    "import seaborn as sns\n",
    "\n",
    "df = pd.read_csv('GRAIN---Land-grab-deals---Jan-2012.csv', sep=';', decimal=',')\n",
    "df.shape"
   ]
  },
  {
   "cell_type": "markdown",
   "id": "c3de263d",
   "metadata": {},
   "source": [
    "# Sample the data\n"
   ]
  },
  {
   "cell_type": "markdown",
   "id": "62ffb298",
   "metadata": {},
   "source": [
    "To get an impression of the data and have a look at the features, we firstly use the command .info(). "
   ]
  },
  {
   "cell_type": "code",
   "execution_count": 2,
   "id": "5823ab19",
   "metadata": {},
   "outputs": [
    {
     "name": "stdout",
     "output_type": "stream",
     "text": [
      "<class 'pandas.core.frame.DataFrame'>\n",
      "RangeIndex: 416 entries, 0 to 415\n",
      "Data columns (total 9 columns):\n",
      " #   Column                Non-Null Count  Dtype \n",
      "---  ------                --------------  ----- \n",
      " 0   Landgrabbed           416 non-null    object\n",
      " 1   Landgrabber           416 non-null    object\n",
      " 2   Base                  416 non-null    object\n",
      " 3   Sector                406 non-null    object\n",
      " 4   Hectares              414 non-null    object\n",
      " 5   Production            382 non-null    object\n",
      " 6   Projected investment  106 non-null    object\n",
      " 7   Status of deal        416 non-null    object\n",
      " 8   Summary               416 non-null    object\n",
      "dtypes: object(9)\n",
      "memory usage: 29.4+ KB\n"
     ]
    }
   ],
   "source": [
    "df.info()"
   ]
  },
  {
   "cell_type": "markdown",
   "id": "333d960b",
   "metadata": {},
   "source": [
    "In order to check if there are any null values we use .isna() command"
   ]
  },
  {
   "cell_type": "code",
   "execution_count": 3,
   "id": "8a25a3d0",
   "metadata": {},
   "outputs": [
    {
     "data": {
      "text/plain": [
       "Landgrabbed               0\n",
       "Landgrabber               0\n",
       "Base                      0\n",
       "Sector                   10\n",
       "Hectares                  2\n",
       "Production               34\n",
       "Projected investment    310\n",
       "Status of deal            0\n",
       "Summary                   0\n",
       "dtype: int64"
      ]
     },
     "execution_count": 3,
     "metadata": {},
     "output_type": "execute_result"
    }
   ],
   "source": [
    "df.isna().sum()"
   ]
  },
  {
   "cell_type": "markdown",
   "id": "b7654e83",
   "metadata": {},
   "source": [
    "Here is a sample of the data and more especially the first 5 results which are taken from the data set to see what kind of values we have. "
   ]
  },
  {
   "cell_type": "code",
   "execution_count": 4,
   "id": "c1e3508d",
   "metadata": {},
   "outputs": [
    {
     "data": {
      "text/html": [
       "<div>\n",
       "<style scoped>\n",
       "    .dataframe tbody tr th:only-of-type {\n",
       "        vertical-align: middle;\n",
       "    }\n",
       "\n",
       "    .dataframe tbody tr th {\n",
       "        vertical-align: top;\n",
       "    }\n",
       "\n",
       "    .dataframe thead th {\n",
       "        text-align: right;\n",
       "    }\n",
       "</style>\n",
       "<table border=\"1\" class=\"dataframe\">\n",
       "  <thead>\n",
       "    <tr style=\"text-align: right;\">\n",
       "      <th></th>\n",
       "      <th>Landgrabbed</th>\n",
       "      <th>Landgrabber</th>\n",
       "      <th>Base</th>\n",
       "      <th>Sector</th>\n",
       "      <th>Hectares</th>\n",
       "      <th>Production</th>\n",
       "      <th>Projected investment</th>\n",
       "      <th>Status of deal</th>\n",
       "      <th>Summary</th>\n",
       "    </tr>\n",
       "  </thead>\n",
       "  <tbody>\n",
       "    <tr>\n",
       "      <th>0</th>\n",
       "      <td>Algeria</td>\n",
       "      <td>Al Qudra</td>\n",
       "      <td>UAE</td>\n",
       "      <td>Finance, real estate</td>\n",
       "      <td>31000.0</td>\n",
       "      <td>Milk, olive oil, potatoes</td>\n",
       "      <td>NaN</td>\n",
       "      <td>Done</td>\n",
       "      <td>Al Qudra Holding is a joint-stock company esta...</td>\n",
       "    </tr>\n",
       "    <tr>\n",
       "      <th>1</th>\n",
       "      <td>Angola</td>\n",
       "      <td>CAMC Engineering Co. Ltd</td>\n",
       "      <td>China</td>\n",
       "      <td>Construction</td>\n",
       "      <td>1500.0</td>\n",
       "      <td>Rice</td>\n",
       "      <td>US$77 million</td>\n",
       "      <td>Done</td>\n",
       "      <td>CAMCE is a subsidiary of the China National Ma...</td>\n",
       "    </tr>\n",
       "    <tr>\n",
       "      <th>2</th>\n",
       "      <td>Angola</td>\n",
       "      <td>ENI</td>\n",
       "      <td>Italy</td>\n",
       "      <td>Energy</td>\n",
       "      <td>12000.0</td>\n",
       "      <td>Oil palm</td>\n",
       "      <td>NaN</td>\n",
       "      <td>In process</td>\n",
       "      <td>The project is a joint venture between Sonango...</td>\n",
       "    </tr>\n",
       "    <tr>\n",
       "      <th>3</th>\n",
       "      <td>Angola</td>\n",
       "      <td>AfriAgro</td>\n",
       "      <td>Portugal</td>\n",
       "      <td>Finance, real estate</td>\n",
       "      <td>5000.0</td>\n",
       "      <td>Oil palm</td>\n",
       "      <td>US$30-35 million</td>\n",
       "      <td>Done</td>\n",
       "      <td>AfriAgro is a subsidiary of the Portugal-based...</td>\n",
       "    </tr>\n",
       "    <tr>\n",
       "      <th>4</th>\n",
       "      <td>Angola</td>\n",
       "      <td>Eurico Ferreira</td>\n",
       "      <td>Portugal</td>\n",
       "      <td>Energy, telecommunications\\n</td>\n",
       "      <td>30000.0</td>\n",
       "      <td>Sugar cane</td>\n",
       "      <td>US$200 million</td>\n",
       "      <td>Done</td>\n",
       "      <td>In 2008, Portuguese conglomerate Eurico Ferrei...</td>\n",
       "    </tr>\n",
       "  </tbody>\n",
       "</table>\n",
       "</div>"
      ],
      "text/plain": [
       "  Landgrabbed               Landgrabber      Base  \\\n",
       "0     Algeria                  Al Qudra       UAE   \n",
       "1      Angola  CAMC Engineering Co. Ltd     China   \n",
       "2      Angola                       ENI     Italy   \n",
       "3      Angola                  AfriAgro  Portugal   \n",
       "4      Angola           Eurico Ferreira  Portugal   \n",
       "\n",
       "                         Sector Hectares                 Production  \\\n",
       "0          Finance, real estate  31000.0  Milk, olive oil, potatoes   \n",
       "1                  Construction   1500.0                       Rice   \n",
       "2                        Energy  12000.0                   Oil palm   \n",
       "3          Finance, real estate   5000.0                   Oil palm   \n",
       "4  Energy, telecommunications\\n  30000.0                 Sugar cane   \n",
       "\n",
       "  Projected investment Status of deal  \\\n",
       "0                  NaN           Done   \n",
       "1        US$77 million          Done    \n",
       "2                  NaN     In process   \n",
       "3     US$30-35 million           Done   \n",
       "4       US$200 million           Done   \n",
       "\n",
       "                                             Summary  \n",
       "0  Al Qudra Holding is a joint-stock company esta...  \n",
       "1  CAMCE is a subsidiary of the China National Ma...  \n",
       "2  The project is a joint venture between Sonango...  \n",
       "3  AfriAgro is a subsidiary of the Portugal-based...  \n",
       "4  In 2008, Portuguese conglomerate Eurico Ferrei...  "
      ]
     },
     "execution_count": 4,
     "metadata": {},
     "output_type": "execute_result"
    }
   ],
   "source": [
    "df.head()"
   ]
  },
  {
   "cell_type": "markdown",
   "id": "9f5c3217",
   "metadata": {},
   "source": [
    "Using the .describe() function computes a summary of statistics pertaining the dataFrame columns. Sector column categorizes each investment inot specific agricultural sector, hectares columns the land area, production the type of agricultural product. "
   ]
  },
  {
   "cell_type": "code",
   "execution_count": 5,
   "id": "5cfa602e",
   "metadata": {},
   "outputs": [
    {
     "data": {
      "text/html": [
       "<div>\n",
       "<style scoped>\n",
       "    .dataframe tbody tr th:only-of-type {\n",
       "        vertical-align: middle;\n",
       "    }\n",
       "\n",
       "    .dataframe tbody tr th {\n",
       "        vertical-align: top;\n",
       "    }\n",
       "\n",
       "    .dataframe thead th {\n",
       "        text-align: right;\n",
       "    }\n",
       "</style>\n",
       "<table border=\"1\" class=\"dataframe\">\n",
       "  <thead>\n",
       "    <tr style=\"text-align: right;\">\n",
       "      <th></th>\n",
       "      <th>Landgrabbed</th>\n",
       "      <th>Landgrabber</th>\n",
       "      <th>Base</th>\n",
       "      <th>Sector</th>\n",
       "      <th>Hectares</th>\n",
       "      <th>Production</th>\n",
       "      <th>Projected investment</th>\n",
       "      <th>Status of deal</th>\n",
       "      <th>Summary</th>\n",
       "    </tr>\n",
       "  </thead>\n",
       "  <tbody>\n",
       "    <tr>\n",
       "      <th>count</th>\n",
       "      <td>416</td>\n",
       "      <td>416</td>\n",
       "      <td>416</td>\n",
       "      <td>406</td>\n",
       "      <td>414</td>\n",
       "      <td>382</td>\n",
       "      <td>106</td>\n",
       "      <td>416</td>\n",
       "      <td>416</td>\n",
       "    </tr>\n",
       "    <tr>\n",
       "      <th>unique</th>\n",
       "      <td>71</td>\n",
       "      <td>308</td>\n",
       "      <td>63</td>\n",
       "      <td>27</td>\n",
       "      <td>220</td>\n",
       "      <td>182</td>\n",
       "      <td>89</td>\n",
       "      <td>10</td>\n",
       "      <td>401</td>\n",
       "    </tr>\n",
       "    <tr>\n",
       "      <th>top</th>\n",
       "      <td>Mozambique</td>\n",
       "      <td>Foras International Investment Co</td>\n",
       "      <td>US</td>\n",
       "      <td>Agribusiness</td>\n",
       "      <td>10000.0</td>\n",
       "      <td>Oil palm</td>\n",
       "      <td>US$250 million</td>\n",
       "      <td>Done</td>\n",
       "      <td>Germanagrar is a German company based in Hambu...</td>\n",
       "    </tr>\n",
       "    <tr>\n",
       "      <th>freq</th>\n",
       "      <td>24</td>\n",
       "      <td>6</td>\n",
       "      <td>40</td>\n",
       "      <td>199</td>\n",
       "      <td>32</td>\n",
       "      <td>40</td>\n",
       "      <td>3</td>\n",
       "      <td>324</td>\n",
       "      <td>4</td>\n",
       "    </tr>\n",
       "  </tbody>\n",
       "</table>\n",
       "</div>"
      ],
      "text/plain": [
       "       Landgrabbed                        Landgrabber Base        Sector  \\\n",
       "count          416                                416  416           406   \n",
       "unique          71                                308   63            27   \n",
       "top     Mozambique  Foras International Investment Co   US  Agribusiness   \n",
       "freq            24                                  6   40           199   \n",
       "\n",
       "       Hectares Production Projected investment Status of deal  \\\n",
       "count       414        382                  106            416   \n",
       "unique      220        182                   89             10   \n",
       "top     10000.0   Oil palm       US$250 million           Done   \n",
       "freq         32         40                    3            324   \n",
       "\n",
       "                                                  Summary  \n",
       "count                                                 416  \n",
       "unique                                                401  \n",
       "top     Germanagrar is a German company based in Hambu...  \n",
       "freq                                                    4  "
      ]
     },
     "execution_count": 5,
     "metadata": {},
     "output_type": "execute_result"
    }
   ],
   "source": [
    "df.describe()"
   ]
  },
  {
   "cell_type": "markdown",
   "id": "c32f194b",
   "metadata": {},
   "source": [
    ".value_counts() is a command in pandas that returns a series containg counts of unique values. The results are in descending order so that means that Landgrabbed is the most frequently occuring element."
   ]
  },
  {
   "cell_type": "code",
   "execution_count": 6,
   "id": "7031707a",
   "metadata": {},
   "outputs": [
    {
     "data": {
      "text/plain": [
       "Landgrabbed\n",
       "Mozambique    24\n",
       "Australia     22\n",
       "Brazil        22\n",
       "Ethiopia      21\n",
       "Russia        19\n",
       "              ..\n",
       "China          1\n",
       "Burma          1\n",
       "Brazil         1\n",
       "Argentina      1\n",
       "Zimbabawe      1\n",
       "Name: count, Length: 71, dtype: int64"
      ]
     },
     "execution_count": 6,
     "metadata": {},
     "output_type": "execute_result"
    }
   ],
   "source": [
    "df.Landgrabbed.value_counts()"
   ]
  },
  {
   "cell_type": "markdown",
   "id": "79c76933",
   "metadata": {},
   "source": [
    "As we can see from this example in here, our dataset is not proeprly cleaned since it sometimes has duplicated values (For example Agribusiness). "
   ]
  },
  {
   "cell_type": "code",
   "execution_count": 7,
   "id": "3abbbac0",
   "metadata": {},
   "outputs": [
    {
     "data": {
      "text/plain": [
       "0             Finance, real estate\n",
       "1                     Construction\n",
       "2                           Energy\n",
       "3             Finance, real estate\n",
       "4     Energy, telecommunications\\n\n",
       "5             Agribusiness, energy\n",
       "6                     Agribusiness\n",
       "7                     Agribusiness\n",
       "8                     Agribusiness\n",
       "9                          Finance\n",
       "10                    Agribusiness\n",
       "11                         Finance\n",
       "12                         Finance\n",
       "13                         Finance\n",
       "14                         Finance\n",
       "15                      Industrial\n",
       "16                    Agribusiness\n",
       "17                    Agribusiness\n",
       "18                    Agribusiness\n",
       "19                      Government\n",
       "20                    Agribusiness\n",
       "21                    Agribusiness\n",
       "22                    Agribusiness\n",
       "23                         Finance\n",
       "24                         Finance\n",
       "25                    Agribusiness\n",
       "26                             NaN\n",
       "27       Industrial, real estate\\n\n",
       "28                    Construction\n",
       "29                    Agribusiness\n",
       "30                         Finance\n",
       "31                         Finance\n",
       "32                         Finance\n",
       "33                    Agribusiness\n",
       "34                    Agribusiness\n",
       "35                      Industrial\n",
       "36                         Finance\n",
       "37                    Agribusiness\n",
       "38                         Finance\n",
       "39                         Finance\n",
       "40                         Finance\n",
       "41                         Finance\n",
       "42                         Finance\n",
       "43                         Finance\n",
       "44                             NaN\n",
       "45    Agribusiness, construction\\n\n",
       "46                         Finance\n",
       "47                             NaN\n",
       "48                          Energy\n",
       "49                    Agribusiness\n",
       "Name: Sector, dtype: object"
      ]
     },
     "execution_count": 7,
     "metadata": {},
     "output_type": "execute_result"
    }
   ],
   "source": [
    "df['Sector'].head(50)"
   ]
  },
  {
   "cell_type": "markdown",
   "id": "45d8e869",
   "metadata": {},
   "source": [
    "# Clean data"
   ]
  },
  {
   "cell_type": "markdown",
   "id": "6d3f72b7",
   "metadata": {},
   "source": [
    "If we want to take the first step to clean the data, we need to split the values using the split() command. We are going to seperate the values in the Sector column of our DatFrame by a comma and expand the results into seperate columns. "
   ]
  },
  {
   "cell_type": "code",
   "execution_count": 8,
   "id": "3b883ff2",
   "metadata": {},
   "outputs": [
    {
     "data": {
      "text/html": [
       "<div>\n",
       "<style scoped>\n",
       "    .dataframe tbody tr th:only-of-type {\n",
       "        vertical-align: middle;\n",
       "    }\n",
       "\n",
       "    .dataframe tbody tr th {\n",
       "        vertical-align: top;\n",
       "    }\n",
       "\n",
       "    .dataframe thead th {\n",
       "        text-align: right;\n",
       "    }\n",
       "</style>\n",
       "<table border=\"1\" class=\"dataframe\">\n",
       "  <thead>\n",
       "    <tr style=\"text-align: right;\">\n",
       "      <th></th>\n",
       "      <th>0</th>\n",
       "      <th>1</th>\n",
       "      <th>2</th>\n",
       "    </tr>\n",
       "  </thead>\n",
       "  <tbody>\n",
       "    <tr>\n",
       "      <th>0</th>\n",
       "      <td>Finance</td>\n",
       "      <td>real estate</td>\n",
       "      <td>None</td>\n",
       "    </tr>\n",
       "    <tr>\n",
       "      <th>1</th>\n",
       "      <td>Construction</td>\n",
       "      <td>None</td>\n",
       "      <td>None</td>\n",
       "    </tr>\n",
       "    <tr>\n",
       "      <th>2</th>\n",
       "      <td>Energy</td>\n",
       "      <td>None</td>\n",
       "      <td>None</td>\n",
       "    </tr>\n",
       "    <tr>\n",
       "      <th>3</th>\n",
       "      <td>Finance</td>\n",
       "      <td>real estate</td>\n",
       "      <td>None</td>\n",
       "    </tr>\n",
       "    <tr>\n",
       "      <th>4</th>\n",
       "      <td>Energy</td>\n",
       "      <td>telecommunications\\n</td>\n",
       "      <td>None</td>\n",
       "    </tr>\n",
       "    <tr>\n",
       "      <th>5</th>\n",
       "      <td>Agribusiness</td>\n",
       "      <td>energy</td>\n",
       "      <td>None</td>\n",
       "    </tr>\n",
       "    <tr>\n",
       "      <th>6</th>\n",
       "      <td>Agribusiness</td>\n",
       "      <td>None</td>\n",
       "      <td>None</td>\n",
       "    </tr>\n",
       "    <tr>\n",
       "      <th>7</th>\n",
       "      <td>Agribusiness</td>\n",
       "      <td>None</td>\n",
       "      <td>None</td>\n",
       "    </tr>\n",
       "    <tr>\n",
       "      <th>8</th>\n",
       "      <td>Agribusiness</td>\n",
       "      <td>None</td>\n",
       "      <td>None</td>\n",
       "    </tr>\n",
       "    <tr>\n",
       "      <th>9</th>\n",
       "      <td>Finance</td>\n",
       "      <td>None</td>\n",
       "      <td>None</td>\n",
       "    </tr>\n",
       "  </tbody>\n",
       "</table>\n",
       "</div>"
      ],
      "text/plain": [
       "              0                      1     2\n",
       "0       Finance            real estate  None\n",
       "1  Construction                   None  None\n",
       "2        Energy                   None  None\n",
       "3       Finance            real estate  None\n",
       "4        Energy   telecommunications\\n  None\n",
       "5  Agribusiness                 energy  None\n",
       "6  Agribusiness                   None  None\n",
       "7  Agribusiness                   None  None\n",
       "8  Agribusiness                   None  None\n",
       "9       Finance                   None  None"
      ]
     },
     "execution_count": 8,
     "metadata": {},
     "output_type": "execute_result"
    }
   ],
   "source": [
    "subset = df['Sector'].str.split(',', expand = True)\n",
    "subset.head(10)"
   ]
  },
  {
   "cell_type": "markdown",
   "id": "2f53e4cb",
   "metadata": {},
   "source": [
    "As we split the values, we can now put the values in the dataFrame with names sector 1, 2 and 3. As result we have our new columns but we now need to delete the original Sector column. \n",
    "Here is how our dataframe looks like now."
   ]
  },
  {
   "cell_type": "code",
   "execution_count": 9,
   "id": "a70d1efd",
   "metadata": {},
   "outputs": [
    {
     "data": {
      "text/html": [
       "<div>\n",
       "<style scoped>\n",
       "    .dataframe tbody tr th:only-of-type {\n",
       "        vertical-align: middle;\n",
       "    }\n",
       "\n",
       "    .dataframe tbody tr th {\n",
       "        vertical-align: top;\n",
       "    }\n",
       "\n",
       "    .dataframe thead th {\n",
       "        text-align: right;\n",
       "    }\n",
       "</style>\n",
       "<table border=\"1\" class=\"dataframe\">\n",
       "  <thead>\n",
       "    <tr style=\"text-align: right;\">\n",
       "      <th></th>\n",
       "      <th>Landgrabbed</th>\n",
       "      <th>Landgrabber</th>\n",
       "      <th>Base</th>\n",
       "      <th>Hectares</th>\n",
       "      <th>Production</th>\n",
       "      <th>Projected investment</th>\n",
       "      <th>Status of deal</th>\n",
       "      <th>Summary</th>\n",
       "      <th>sector1</th>\n",
       "      <th>sector2</th>\n",
       "      <th>sector3</th>\n",
       "    </tr>\n",
       "  </thead>\n",
       "  <tbody>\n",
       "    <tr>\n",
       "      <th>0</th>\n",
       "      <td>Algeria</td>\n",
       "      <td>Al Qudra</td>\n",
       "      <td>UAE</td>\n",
       "      <td>31000.0</td>\n",
       "      <td>Milk, olive oil, potatoes</td>\n",
       "      <td>NaN</td>\n",
       "      <td>Done</td>\n",
       "      <td>Al Qudra Holding is a joint-stock company esta...</td>\n",
       "      <td>Finance</td>\n",
       "      <td>real estate</td>\n",
       "      <td>None</td>\n",
       "    </tr>\n",
       "    <tr>\n",
       "      <th>1</th>\n",
       "      <td>Angola</td>\n",
       "      <td>CAMC Engineering Co. Ltd</td>\n",
       "      <td>China</td>\n",
       "      <td>1500.0</td>\n",
       "      <td>Rice</td>\n",
       "      <td>US$77 million</td>\n",
       "      <td>Done</td>\n",
       "      <td>CAMCE is a subsidiary of the China National Ma...</td>\n",
       "      <td>Construction</td>\n",
       "      <td>None</td>\n",
       "      <td>None</td>\n",
       "    </tr>\n",
       "    <tr>\n",
       "      <th>2</th>\n",
       "      <td>Angola</td>\n",
       "      <td>ENI</td>\n",
       "      <td>Italy</td>\n",
       "      <td>12000.0</td>\n",
       "      <td>Oil palm</td>\n",
       "      <td>NaN</td>\n",
       "      <td>In process</td>\n",
       "      <td>The project is a joint venture between Sonango...</td>\n",
       "      <td>Energy</td>\n",
       "      <td>None</td>\n",
       "      <td>None</td>\n",
       "    </tr>\n",
       "    <tr>\n",
       "      <th>3</th>\n",
       "      <td>Angola</td>\n",
       "      <td>AfriAgro</td>\n",
       "      <td>Portugal</td>\n",
       "      <td>5000.0</td>\n",
       "      <td>Oil palm</td>\n",
       "      <td>US$30-35 million</td>\n",
       "      <td>Done</td>\n",
       "      <td>AfriAgro is a subsidiary of the Portugal-based...</td>\n",
       "      <td>Finance</td>\n",
       "      <td>real estate</td>\n",
       "      <td>None</td>\n",
       "    </tr>\n",
       "    <tr>\n",
       "      <th>4</th>\n",
       "      <td>Angola</td>\n",
       "      <td>Eurico Ferreira</td>\n",
       "      <td>Portugal</td>\n",
       "      <td>30000.0</td>\n",
       "      <td>Sugar cane</td>\n",
       "      <td>US$200 million</td>\n",
       "      <td>Done</td>\n",
       "      <td>In 2008, Portuguese conglomerate Eurico Ferrei...</td>\n",
       "      <td>Energy</td>\n",
       "      <td>telecommunications\\n</td>\n",
       "      <td>None</td>\n",
       "    </tr>\n",
       "  </tbody>\n",
       "</table>\n",
       "</div>"
      ],
      "text/plain": [
       "  Landgrabbed               Landgrabber      Base Hectares  \\\n",
       "0     Algeria                  Al Qudra       UAE  31000.0   \n",
       "1      Angola  CAMC Engineering Co. Ltd     China   1500.0   \n",
       "2      Angola                       ENI     Italy  12000.0   \n",
       "3      Angola                  AfriAgro  Portugal   5000.0   \n",
       "4      Angola           Eurico Ferreira  Portugal  30000.0   \n",
       "\n",
       "                  Production Projected investment Status of deal  \\\n",
       "0  Milk, olive oil, potatoes                  NaN           Done   \n",
       "1                       Rice        US$77 million          Done    \n",
       "2                   Oil palm                  NaN     In process   \n",
       "3                   Oil palm     US$30-35 million           Done   \n",
       "4                 Sugar cane       US$200 million           Done   \n",
       "\n",
       "                                             Summary       sector1  \\\n",
       "0  Al Qudra Holding is a joint-stock company esta...       Finance   \n",
       "1  CAMCE is a subsidiary of the China National Ma...  Construction   \n",
       "2  The project is a joint venture between Sonango...        Energy   \n",
       "3  AfriAgro is a subsidiary of the Portugal-based...       Finance   \n",
       "4  In 2008, Portuguese conglomerate Eurico Ferrei...        Energy   \n",
       "\n",
       "                 sector2 sector3  \n",
       "0            real estate    None  \n",
       "1                   None    None  \n",
       "2                   None    None  \n",
       "3            real estate    None  \n",
       "4   telecommunications\\n    None  "
      ]
     },
     "execution_count": 9,
     "metadata": {},
     "output_type": "execute_result"
    }
   ],
   "source": [
    "df[['sector1', 'sector2', 'sector3']] = df['Sector'].str.split(',', expand = True)\n",
    "df.drop('Sector', axis='columns', inplace=True)\n",
    "df.head()"
   ]
  },
  {
   "cell_type": "markdown",
   "id": "74cd266e",
   "metadata": {},
   "source": [
    "The following piece of code is used to obtain the unique values which are present in Status of deal column as an array. From the result, we can conclude that our column contains some duplications. (Suspended and done)"
   ]
  },
  {
   "cell_type": "code",
   "execution_count": 10,
   "id": "eeb3fcd0",
   "metadata": {},
   "outputs": [
    {
     "data": {
      "text/plain": [
       "array(['Done', 'Done ', 'In process', 'Done (50-yr lease)', 'Suspended',\n",
       "       'Proposed', 'MoU signed (2009)', 'Done\\n', 'Suspended  ',\n",
       "       'Suspended (October 2011)'], dtype=object)"
      ]
     },
     "execution_count": 10,
     "metadata": {},
     "output_type": "execute_result"
    }
   ],
   "source": [
    "df['Status of deal'].unique()\n"
   ]
  },
  {
   "cell_type": "markdown",
   "id": "8787c910",
   "metadata": {},
   "source": [
    "We are going to perform two more actions so our data gets more clean. .str.strip() removes leading and trailing whitespaces from the vlaues in \"Status of deal\" colum. .unique() -retrieves the unique values which are presnt in the column and is going to return an array."
   ]
  },
  {
   "cell_type": "code",
   "execution_count": 11,
   "id": "ca60fbbb",
   "metadata": {},
   "outputs": [
    {
     "data": {
      "text/plain": [
       "array(['Done', 'In process', 'Done (50-yr lease)', 'Suspended',\n",
       "       'Proposed', 'MoU signed (2009)', 'Suspended (October 2011)'],\n",
       "      dtype=object)"
      ]
     },
     "execution_count": 11,
     "metadata": {},
     "output_type": "execute_result"
    }
   ],
   "source": [
    "df['Status of deal'] = df['Status of deal'].str.strip()\n",
    "df['Status of deal'].unique()"
   ]
  },
  {
   "cell_type": "markdown",
   "id": "c209e15f",
   "metadata": {},
   "source": [
    ".duplicated is a function that checks for duplicated rows and returns a boolean and after we put .value_counts() is giving us the occurences of each unique value in the series which are true and false. The result is False 416 so we can conclude that ther are 416 non-duplicate rows in our dataframe."
   ]
  },
  {
   "cell_type": "code",
   "execution_count": 12,
   "id": "c92d2651",
   "metadata": {},
   "outputs": [
    {
     "data": {
      "text/plain": [
       "False    416\n",
       "Name: count, dtype: int64"
      ]
     },
     "execution_count": 12,
     "metadata": {},
     "output_type": "execute_result"
    }
   ],
   "source": [
    "df.duplicated().value_counts()"
   ]
  },
  {
   "cell_type": "markdown",
   "id": "5e0b1732",
   "metadata": {},
   "source": [
    "Another issue that our dataset is the Projected investment columng which has values like \"70 million,35 million\", which are numbers but not actual numbers. We are going to use the .replace command  and .extract() which extract the numeric portion from the string. "
   ]
  },
  {
   "cell_type": "code",
   "execution_count": 13,
   "id": "32a29a51",
   "metadata": {},
   "outputs": [
    {
     "data": {
      "text/html": [
       "<div>\n",
       "<style scoped>\n",
       "    .dataframe tbody tr th:only-of-type {\n",
       "        vertical-align: middle;\n",
       "    }\n",
       "\n",
       "    .dataframe tbody tr th {\n",
       "        vertical-align: top;\n",
       "    }\n",
       "\n",
       "    .dataframe thead th {\n",
       "        text-align: right;\n",
       "    }\n",
       "</style>\n",
       "<table border=\"1\" class=\"dataframe\">\n",
       "  <thead>\n",
       "    <tr style=\"text-align: right;\">\n",
       "      <th></th>\n",
       "      <th>Landgrabbed</th>\n",
       "      <th>Landgrabber</th>\n",
       "      <th>Base</th>\n",
       "      <th>Hectares</th>\n",
       "      <th>Production</th>\n",
       "      <th>Projected investment</th>\n",
       "      <th>Status of deal</th>\n",
       "      <th>Summary</th>\n",
       "      <th>sector1</th>\n",
       "      <th>sector2</th>\n",
       "      <th>sector3</th>\n",
       "      <th>Projected Investment (US$ millions)</th>\n",
       "    </tr>\n",
       "  </thead>\n",
       "  <tbody>\n",
       "    <tr>\n",
       "      <th>0</th>\n",
       "      <td>Algeria</td>\n",
       "      <td>Al Qudra</td>\n",
       "      <td>UAE</td>\n",
       "      <td>31000.0</td>\n",
       "      <td>Milk, olive oil, potatoes</td>\n",
       "      <td>NaN</td>\n",
       "      <td>Done</td>\n",
       "      <td>Al Qudra Holding is a joint-stock company esta...</td>\n",
       "      <td>Finance</td>\n",
       "      <td>real estate</td>\n",
       "      <td>None</td>\n",
       "      <td>NaN</td>\n",
       "    </tr>\n",
       "    <tr>\n",
       "      <th>1</th>\n",
       "      <td>Angola</td>\n",
       "      <td>CAMC Engineering Co. Ltd</td>\n",
       "      <td>China</td>\n",
       "      <td>1500.0</td>\n",
       "      <td>Rice</td>\n",
       "      <td>US$77 million</td>\n",
       "      <td>Done</td>\n",
       "      <td>CAMCE is a subsidiary of the China National Ma...</td>\n",
       "      <td>Construction</td>\n",
       "      <td>None</td>\n",
       "      <td>None</td>\n",
       "      <td>77.0</td>\n",
       "    </tr>\n",
       "    <tr>\n",
       "      <th>2</th>\n",
       "      <td>Angola</td>\n",
       "      <td>ENI</td>\n",
       "      <td>Italy</td>\n",
       "      <td>12000.0</td>\n",
       "      <td>Oil palm</td>\n",
       "      <td>NaN</td>\n",
       "      <td>In process</td>\n",
       "      <td>The project is a joint venture between Sonango...</td>\n",
       "      <td>Energy</td>\n",
       "      <td>None</td>\n",
       "      <td>None</td>\n",
       "      <td>NaN</td>\n",
       "    </tr>\n",
       "    <tr>\n",
       "      <th>3</th>\n",
       "      <td>Angola</td>\n",
       "      <td>AfriAgro</td>\n",
       "      <td>Portugal</td>\n",
       "      <td>5000.0</td>\n",
       "      <td>Oil palm</td>\n",
       "      <td>US$30-35 million</td>\n",
       "      <td>Done</td>\n",
       "      <td>AfriAgro is a subsidiary of the Portugal-based...</td>\n",
       "      <td>Finance</td>\n",
       "      <td>real estate</td>\n",
       "      <td>None</td>\n",
       "      <td>30.0</td>\n",
       "    </tr>\n",
       "    <tr>\n",
       "      <th>4</th>\n",
       "      <td>Angola</td>\n",
       "      <td>Eurico Ferreira</td>\n",
       "      <td>Portugal</td>\n",
       "      <td>30000.0</td>\n",
       "      <td>Sugar cane</td>\n",
       "      <td>US$200 million</td>\n",
       "      <td>Done</td>\n",
       "      <td>In 2008, Portuguese conglomerate Eurico Ferrei...</td>\n",
       "      <td>Energy</td>\n",
       "      <td>telecommunications\\n</td>\n",
       "      <td>None</td>\n",
       "      <td>200.0</td>\n",
       "    </tr>\n",
       "    <tr>\n",
       "      <th>...</th>\n",
       "      <td>...</td>\n",
       "      <td>...</td>\n",
       "      <td>...</td>\n",
       "      <td>...</td>\n",
       "      <td>...</td>\n",
       "      <td>...</td>\n",
       "      <td>...</td>\n",
       "      <td>...</td>\n",
       "      <td>...</td>\n",
       "      <td>...</td>\n",
       "      <td>...</td>\n",
       "      <td>...</td>\n",
       "    </tr>\n",
       "    <tr>\n",
       "      <th>411</th>\n",
       "      <td>Zambia</td>\n",
       "      <td>Export Trading Group</td>\n",
       "      <td>Singapore</td>\n",
       "      <td>57000.0</td>\n",
       "      <td>Food crops, jatropha</td>\n",
       "      <td>NaN</td>\n",
       "      <td>Done</td>\n",
       "      <td>ETG, owned by Kenya's Patel family, is incorpo...</td>\n",
       "      <td>Agribusiness</td>\n",
       "      <td>None</td>\n",
       "      <td>None</td>\n",
       "      <td>NaN</td>\n",
       "    </tr>\n",
       "    <tr>\n",
       "      <th>412</th>\n",
       "      <td>Zambia</td>\n",
       "      <td>AG-ZAM</td>\n",
       "      <td>South Africa</td>\n",
       "      <td>15000.0</td>\n",
       "      <td>Sugar cane</td>\n",
       "      <td>US$251 million</td>\n",
       "      <td>Done</td>\n",
       "      <td>In April 2011 the Zambia Development Agency an...</td>\n",
       "      <td>Agribusiness</td>\n",
       "      <td>None</td>\n",
       "      <td>None</td>\n",
       "      <td>251.0</td>\n",
       "    </tr>\n",
       "    <tr>\n",
       "      <th>413</th>\n",
       "      <td>Zambia</td>\n",
       "      <td>Chayton Capital</td>\n",
       "      <td>UK</td>\n",
       "      <td>20000.0</td>\n",
       "      <td>Crops</td>\n",
       "      <td>US$85 million</td>\n",
       "      <td>Done</td>\n",
       "      <td>Chayton Capital is a US$300-million London-bas...</td>\n",
       "      <td>Finance</td>\n",
       "      <td>None</td>\n",
       "      <td>None</td>\n",
       "      <td>85.0</td>\n",
       "    </tr>\n",
       "    <tr>\n",
       "      <th>414</th>\n",
       "      <td>Zambia</td>\n",
       "      <td>Emvest</td>\n",
       "      <td>UK</td>\n",
       "      <td>2513.0</td>\n",
       "      <td>Banana, maize, wheat</td>\n",
       "      <td>NaN</td>\n",
       "      <td>Done</td>\n",
       "      <td>UK private equity firm Emergent Asset Manageme...</td>\n",
       "      <td>Finance</td>\n",
       "      <td>None</td>\n",
       "      <td>None</td>\n",
       "      <td>NaN</td>\n",
       "    </tr>\n",
       "    <tr>\n",
       "      <th>415</th>\n",
       "      <td>Zimbabawe</td>\n",
       "      <td>Emvest</td>\n",
       "      <td>UK</td>\n",
       "      <td>9913.0</td>\n",
       "      <td>NaN</td>\n",
       "      <td>NaN</td>\n",
       "      <td>Done</td>\n",
       "      <td>UK private equity firm Emergent Asset Manageme...</td>\n",
       "      <td>Finance</td>\n",
       "      <td>None</td>\n",
       "      <td>None</td>\n",
       "      <td>NaN</td>\n",
       "    </tr>\n",
       "  </tbody>\n",
       "</table>\n",
       "<p>416 rows × 12 columns</p>\n",
       "</div>"
      ],
      "text/plain": [
       "    Landgrabbed               Landgrabber          Base Hectares  \\\n",
       "0       Algeria                  Al Qudra           UAE  31000.0   \n",
       "1        Angola  CAMC Engineering Co. Ltd         China   1500.0   \n",
       "2        Angola                       ENI         Italy  12000.0   \n",
       "3        Angola                  AfriAgro      Portugal   5000.0   \n",
       "4        Angola           Eurico Ferreira      Portugal  30000.0   \n",
       "..          ...                       ...           ...      ...   \n",
       "411      Zambia     Export Trading Group      Singapore  57000.0   \n",
       "412      Zambia                    AG-ZAM  South Africa  15000.0   \n",
       "413      Zambia           Chayton Capital            UK  20000.0   \n",
       "414      Zambia                    Emvest            UK   2513.0   \n",
       "415   Zimbabawe                    Emvest            UK   9913.0   \n",
       "\n",
       "                    Production Projected investment Status of deal  \\\n",
       "0    Milk, olive oil, potatoes                  NaN           Done   \n",
       "1                         Rice        US$77 million           Done   \n",
       "2                     Oil palm                  NaN     In process   \n",
       "3                     Oil palm     US$30-35 million           Done   \n",
       "4                   Sugar cane       US$200 million           Done   \n",
       "..                         ...                  ...            ...   \n",
       "411       Food crops, jatropha                  NaN           Done   \n",
       "412                 Sugar cane       US$251 million           Done   \n",
       "413                      Crops       US$85 million            Done   \n",
       "414       Banana, maize, wheat                  NaN           Done   \n",
       "415                        NaN                  NaN           Done   \n",
       "\n",
       "                                               Summary       sector1  \\\n",
       "0    Al Qudra Holding is a joint-stock company esta...       Finance   \n",
       "1    CAMCE is a subsidiary of the China National Ma...  Construction   \n",
       "2    The project is a joint venture between Sonango...        Energy   \n",
       "3    AfriAgro is a subsidiary of the Portugal-based...       Finance   \n",
       "4    In 2008, Portuguese conglomerate Eurico Ferrei...        Energy   \n",
       "..                                                 ...           ...   \n",
       "411  ETG, owned by Kenya's Patel family, is incorpo...  Agribusiness   \n",
       "412  In April 2011 the Zambia Development Agency an...  Agribusiness   \n",
       "413  Chayton Capital is a US$300-million London-bas...       Finance   \n",
       "414  UK private equity firm Emergent Asset Manageme...       Finance   \n",
       "415  UK private equity firm Emergent Asset Manageme...       Finance   \n",
       "\n",
       "                   sector2 sector3  Projected Investment (US$ millions)  \n",
       "0              real estate    None                                  NaN  \n",
       "1                     None    None                                 77.0  \n",
       "2                     None    None                                  NaN  \n",
       "3              real estate    None                                 30.0  \n",
       "4     telecommunications\\n    None                                200.0  \n",
       "..                     ...     ...                                  ...  \n",
       "411                   None    None                                  NaN  \n",
       "412                   None    None                                251.0  \n",
       "413                   None    None                                 85.0  \n",
       "414                   None    None                                  NaN  \n",
       "415                   None    None                                  NaN  \n",
       "\n",
       "[416 rows x 12 columns]"
      ]
     },
     "execution_count": 13,
     "metadata": {},
     "output_type": "execute_result"
    }
   ],
   "source": [
    "df['Projected Investment (US$ millions)'] = df['Projected investment'].str.replace('US$', '').str.extract('(\\d+\\.?\\d*)').astype(float)\n",
    "df\n"
   ]
  },
  {
   "cell_type": "markdown",
   "id": "6719bd81",
   "metadata": {},
   "source": [
    "# Conclusion"
   ]
  },
  {
   "cell_type": "markdown",
   "id": "5236e40c",
   "metadata": {},
   "source": [
    "From the previous examples, we can conclude that several rules can be deduced. Format of numeric values: 34 millions US. For this example we could even make another columns which are going to present the min and max values, since we had examples varying like 30-35 millions, but in here I decided to take the mean. In order to find exceptions for this rule specifically , we could firstly examine the data manually, another way is to visualize the data. (histogram, plots). By cleaning the data, there could be vsrious consequences like: making assumptions such as mean values would not be accurate. Cleaning data makes it more suitable for analysis"
   ]
  }
 ],
 "metadata": {
  "kernelspec": {
   "display_name": "Python 3",
   "language": "python",
   "name": "python3"
  },
  "language_info": {
   "codemirror_mode": {
    "name": "ipython",
    "version": 3
   },
   "file_extension": ".py",
   "mimetype": "text/x-python",
   "name": "python",
   "nbconvert_exporter": "python",
   "pygments_lexer": "ipython3",
   "version": "3.9.7"
  }
 },
 "nbformat": 4,
 "nbformat_minor": 5
}
